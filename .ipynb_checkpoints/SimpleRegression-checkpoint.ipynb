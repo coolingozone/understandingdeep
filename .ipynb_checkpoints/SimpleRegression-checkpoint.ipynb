{
 "cells": [
  {
   "cell_type": "markdown",
   "metadata": {
    "deletable": true,
    "editable": true
   },
   "source": [
    "# Basic Tensorflow with Linear Regression"
   ]
  },
  {
   "cell_type": "markdown",
   "metadata": {
    "collapsed": true,
    "deletable": true,
    "editable": true
   },
   "source": [
    "Start by building a simple graph"
   ]
  },
  {
   "cell_type": "code",
   "execution_count": 25,
   "metadata": {
    "collapsed": false,
    "deletable": true,
    "editable": true
   },
   "outputs": [
    {
     "name": "stdout",
     "output_type": "stream",
     "text": [
      "Tensor(\"Add_9:0\", shape=(), dtype=int32)\n"
     ]
    }
   ],
   "source": [
    "import tensorflow as tf\n",
    "\n",
    "a=tf.constant(1)\n",
    "b=tf.constant(2)\n",
    "c=tf.add(a,b)\n",
    "print(c)"
   ]
  },
  {
   "cell_type": "markdown",
   "metadata": {
    "deletable": true,
    "editable": true
   },
   "source": [
    "If you run the above code, you would realize that nothng would happen as we are only building the graph or the blueprint. We need to run th created object in a session to actually run it."
   ]
  },
  {
   "cell_type": "code",
   "execution_count": 26,
   "metadata": {
    "collapsed": false,
    "deletable": true,
    "editable": true
   },
   "outputs": [
    {
     "name": "stdout",
     "output_type": "stream",
     "text": [
      "3\n"
     ]
    }
   ],
   "source": [
    "sess=tf.Session()\n",
    "valuec=sess.run(c)\n",
    "print(valuec)"
   ]
  },
  {
   "cell_type": "markdown",
   "metadata": {
    "deletable": true,
    "editable": true
   },
   "source": [
    "AS you can see output of the addition would only be materialized when it is run by a session."
   ]
  },
  {
   "cell_type": "markdown",
   "metadata": {
    "deletable": true,
    "editable": true
   },
   "source": [
    "Linear regression is trying to model a set of data [y,x] using a linear equation:\n",
    "    y=Wx+b\n",
    "where y is the dependent output result, x is the independent variable data, W is the weights parameters and b is the bias."
   ]
  },
  {
   "cell_type": "code",
   "execution_count": 27,
   "metadata": {
    "collapsed": false,
    "deletable": true,
    "editable": true
   },
   "outputs": [
    {
     "data": {
      "image/png": "[encoded data removed]",
      "text/plain": [
       "<matplotlib.figure.Figure at 0x7f85a05fb2d0>"
      ]
     },
     "metadata": {},
     "output_type": "display_data"
    }
   ],
   "source": [
    "import numpy as np\n",
    "import matplotlib.pyplot as plt\n",
    "\n",
    "# 0 is the mean of the normal distribution you are choosing from\n",
    "# 1.6 is the standard deviation of the normal distribution\n",
    "# 100 is the number of elements you get in array noise\n",
    "\n",
    "np.random.seed(seed=234)\n",
    "noise = np.random.normal(0,1.5,100)\n",
    "#generating the training data\n",
    "train_X=np.asarray(np.arange(0,100,1))\n",
    "train_Y=0.2*train_X+0.6+noise\n",
    "plt.scatter(train_X,train_Y)\n",
    "plt.show()\n",
    "n_samples = train_X.shape[0]"
   ]
  },
  {
   "cell_type": "code",
   "execution_count": 28,
   "metadata": {
    "collapsed": false,
    "deletable": true,
    "editable": true
   },
   "outputs": [
    {
     "name": "stdout",
     "output_type": "stream",
     "text": [
      "Epoch: 0050 loss= 0.011827060 W= 0.195746 b= 1.04116\n",
      "Epoch: 0100 loss= 0.011803415 W= 0.196088 b= 1.00732\n",
      "Epoch: 0150 loss= 0.011784963 W= 0.196405 b= 0.976022\n",
      "Epoch: 0200 loss= 0.011770816 W= 0.196697 b= 0.947074\n",
      "Epoch: 0250 loss= 0.011760229 W= 0.196968 b= 0.920297\n",
      "Epoch: 0300 loss= 0.011752580 W= 0.197218 b= 0.895541\n",
      "Epoch: 0350 loss= 0.011747333 W= 0.197449 b= 0.872635\n",
      "Epoch: 0400 loss= 0.011744039 W= 0.197663 b= 0.851461\n",
      "Epoch: 0450 loss= 0.011742335 W= 0.197861 b= 0.83187\n",
      "Epoch: 0500 loss= 0.011741901 W= 0.198044 b= 0.813755\n",
      "Epoch: 0550 loss= 0.011742480 W= 0.198213 b= 0.797003\n",
      "Epoch: 0600 loss= 0.011743847 W= 0.19837 b= 0.781508\n",
      "Epoch: 0650 loss= 0.011745829 W= 0.198515 b= 0.767175\n",
      "Epoch: 0700 loss= 0.011748277 W= 0.198648 b= 0.753924\n",
      "Epoch: 0750 loss= 0.011751061 W= 0.198772 b= 0.741669\n",
      "Epoch: 0800 loss= 0.011754088 W= 0.198887 b= 0.730332\n",
      "Epoch: 0850 loss= 0.011757268 W= 0.198993 b= 0.719846\n",
      "Epoch: 0900 loss= 0.011760536 W= 0.199091 b= 0.710152\n",
      "Epoch: 0950 loss= 0.011763844 W= 0.199181 b= 0.701178\n",
      "Epoch: 1000 loss= 0.011767138 W= 0.199265 b= 0.692886\n"
     ]
    }
   ],
   "source": [
    "# Parameters\n",
    "learning_rate = 0.01\n",
    "training_epochs = 1000\n",
    "display_step = 50\n",
    "\n",
    "# tf Graph Input\n",
    "X = tf.placeholder(\"float\")\n",
    "Y = tf.placeholder(\"float\")\n",
    "\n",
    "# Set model weights\n",
    "W = tf.Variable(np.random.randn(), name=\"weight\")\n",
    "b = tf.Variable(np.random.randn(), name=\"bias\")\n",
    "\n",
    "# Construct a linear model\n",
    "pred = tf.add(tf.multiply(X, W), b)\n",
    "\n",
    "loss = tf.reduce_mean(tf.pow(pred - Y, 2)) / (2 * n_samples)\n",
    "# Gradient descent\n",
    "# Gradient descent\n",
    "optimizer = tf.train.GradientDescentOptimizer(learning_rate).minimize(loss)\n",
    "# Initializing the variables\n",
    "init = tf.global_variables_initializer()\n",
    "with tf.Session() as sess:\n",
    "    sess.run(init)\n",
    "    # Fit all training data\n",
    "    for epoch in range(training_epochs):\n",
    "        for (x, y) in zip(train_X, train_Y):\n",
    "            sess.run(optimizer, feed_dict={X: x, Y: y})\n",
    "\n",
    "        # Display logs per epoch step\n",
    "        if (epoch + 1) % display_step == 0:\n",
    "            c = sess.run(loss, feed_dict={X: train_X, Y: train_Y})\n",
    "            print \"Epoch:\", '%04d' % (epoch + 1), \"loss=\", \"{:.9f}\".format(c), \\\n",
    "                \"W=\", sess.run(W), \"b=\", sess.run(b)\n",
    "        ww = sess.run(W)\n",
    "        bb = sess.run(b)\n"
   ]
  },
  {
   "cell_type": "code",
   "execution_count": 29,
   "metadata": {
    "collapsed": false,
    "deletable": true,
    "editable": true
   },
   "outputs": [
    {
     "data": {
      "image/png": "[encoded data removed]",
      "text/plain": [
       "<matplotlib.figure.Figure at 0x7f85a05ccf90>"
      ]
     },
     "metadata": {},
     "output_type": "display_data"
    }
   ],
   "source": [
    "\n",
    "\n",
    "plt.scatter(train_X,train_Y,color='green',label='Train Data')\n",
    "pred_y=train_X*ww+bb\n",
    "plt.plot(train_X,pred_y,color='red',label='Fitted Line')\n",
    "# Place a legend to the right of this smaller subplot.\n",
    "plt.legend(bbox_to_anchor=(1.05, 1), loc=2, borderaxespad=0.)\n",
    "plt.show()"
   ]
  }
 ],
 "metadata": {
  "kernelspec": {
   "display_name": "Python 2",
   "language": "python",
   "name": "python2"
  },
  "language_info": {
   "codemirror_mode": {
    "name": "ipython",
    "version": 2
   },
   "file_extension": ".py",
   "mimetype": "text/x-python",
   "name": "python",
   "nbconvert_exporter": "python",
   "pygments_lexer": "ipython2",
   "version": "2.7.13"
  }
 },
 "nbformat": 4,
 "nbformat_minor": 2
}
