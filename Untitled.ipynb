{
 "cells": [
  {
   "cell_type": "code",
   "execution_count": 25,
   "metadata": {},
   "outputs": [
    {
     "name": "stdout",
     "output_type": "stream",
     "text": [
      "      PatientId  AppointmentID Gender        AppointmentDay  \\\n",
      "0  2.987250e+13        5642903      F  2016-04-29T00:00:00Z   \n",
      "1  5.589978e+14        5642503      M  2016-04-29T00:00:00Z   \n",
      "2  4.262962e+12        5642549      F  2016-04-29T00:00:00Z   \n",
      "3  8.679512e+11        5642828      F  2016-04-29T00:00:00Z   \n",
      "4  8.841186e+12        5642494      F  2016-04-29T00:00:00Z   \n",
      "\n",
      "       Neighbourhood  Scholarship  Hipertension  Diabetes  Alcoholism  \\\n",
      "0    JARDIM DA PENHA            0             1         0           0   \n",
      "1    JARDIM DA PENHA            0             0         0           0   \n",
      "2      MATA DA PRAIA            0             0         0           0   \n",
      "3  PONTAL DE CAMBURI            0             0         0           0   \n",
      "4    JARDIM DA PENHA            0             1         1           0   \n",
      "\n",
      "   Handcap  SMS_received  \n",
      "0        0             0  \n",
      "1        0             0  \n",
      "2        0             0  \n",
      "3        0             0  \n",
      "4        0             0  \n",
      "  No-show\n",
      "0      No\n",
      "1      No\n",
      "2      No\n",
      "3      No\n",
      "4      No\n",
      "(110527, 11)\n",
      "(110527, 1)\n"
     ]
    }
   ],
   "source": [
    "import pandas as pds\n",
    "\n",
    "dataframeX = pds.read_csv('No-show-Issue-Comma-300k.csv', usecols=[0, 1, 2,4, 6, 7, 8, 9, 10, 11, 12])\n",
    "dataframeY = pds.read_csv('No-show-Issue-Comma-300k.csv', usecols=[13])\n",
    "\n",
    "print(dataframeX.head())\n",
    "print(dataframeY.head())\n",
    "print(dataframeX.shape)\n",
    "print(dataframeY.shape)"
   ]
  },
  {
   "cell_type": "code",
   "execution_count": 26,
   "metadata": {},
   "outputs": [
    {
     "name": "stdout",
     "output_type": "stream",
     "text": [
      "Index(['PatientId', 'AppointmentID', 'Gender', 'AppointmentDay',\n",
      "       'Neighbourhood', 'Scholarship', 'Hipertension', 'Diabetes',\n",
      "       'Alcoholism', 'Handicap', 'SMS_received'],\n",
      "      dtype='object')\n",
      "Index(['No_show'], dtype='object')\n"
     ]
    }
   ],
   "source": [
    "dataframeX.rename(columns = {'ApointmentData':'AppointmentData',\n",
    "                         'Alcoolism': 'Alchoholism',\n",
    "                         'HiperTension': 'Hypertension',\n",
    "                         'Handcap': 'Handicap'}, inplace = True)\n",
    "\n",
    "print(dataframeX.columns)\n",
    "\n",
    "dataframeY.rename(columns = {'No-show':'No_show'},inplace = True)\n",
    "\n",
    "print(dataframeY.columns)"
   ]
  },
  {
   "cell_type": "code",
   "execution_count": 27,
   "metadata": {},
   "outputs": [
    {
     "name": "stdout",
     "output_type": "stream",
     "text": [
      "      PatientId  AppointmentID  Gender        AppointmentDay  \\\n",
      "0  2.987250e+13        5642903       1  2016-04-29T00:00:00Z   \n",
      "1  5.589978e+14        5642503       0  2016-04-29T00:00:00Z   \n",
      "2  4.262962e+12        5642549       1  2016-04-29T00:00:00Z   \n",
      "3  8.679512e+11        5642828       1  2016-04-29T00:00:00Z   \n",
      "4  8.841186e+12        5642494       1  2016-04-29T00:00:00Z   \n",
      "\n",
      "       Neighbourhood  Scholarship  Hipertension  Diabetes  Alcoholism  \\\n",
      "0    JARDIM DA PENHA            0             1         0           0   \n",
      "1    JARDIM DA PENHA            0             0         0           0   \n",
      "2      MATA DA PRAIA            0             0         0           0   \n",
      "3  PONTAL DE CAMBURI            0             0         0           0   \n",
      "4    JARDIM DA PENHA            0             1         1           0   \n",
      "\n",
      "   Handicap  SMS_received  \n",
      "0         0             0  \n",
      "1         0             0  \n",
      "2         0             0  \n",
      "3         0             0  \n",
      "4         0             0  \n",
      "   No_show\n",
      "0        0\n",
      "1        0\n",
      "2        0\n",
      "3        0\n",
      "4        0\n"
     ]
    }
   ],
   "source": [
    "def weekdayToInt(weekday):\n",
    "    return {\n",
    "        'Monday': 0,\n",
    "        'Tuesday': 1,\n",
    "        'Wednesday': 2,\n",
    "        'Thursday': 3,\n",
    "        'Friday': 4,\n",
    "        'Saturday': 5,\n",
    "        'Sunday': 6\n",
    "    }[weekday]\n",
    "\n",
    "def genderToInt(gender):\n",
    "    if gender == 'M':\n",
    "        return 0\n",
    "    else:\n",
    "        return 1\n",
    "\n",
    "def statusToInt(status):\n",
    "    if status == 'Yes':\n",
    "        return 1\n",
    "    else:\n",
    "        return 0\n",
    "\n",
    "dataframeX.DayOfTheWeek.apply(weekdayToInt)\n",
    "dataframeX.Gender = dataframeX.Gender.apply(genderToInt)\n",
    "dataframeY.No_show = dataframeY.No_show.apply(statusToInt)\n",
    "\n",
    "print(dataframeX.head())\n",
    "print(dataframeY.head())"
   ]
  }
 ],
 "metadata": {
  "kernelspec": {
   "display_name": "Python 3",
   "language": "python",
   "name": "python3"
  },
  "language_info": {
   "codemirror_mode": {
    "name": "ipython",
    "version": 3
   },
   "file_extension": ".py",
   "mimetype": "text/x-python",
   "name": "python",
   "nbconvert_exporter": "python",
   "pygments_lexer": "ipython3",
   "version": "3.5.2"
  }
 },
 "nbformat": 4,
 "nbformat_minor": 2
}
